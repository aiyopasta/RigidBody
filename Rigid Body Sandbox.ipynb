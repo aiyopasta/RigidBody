{
 "cells": [
  {
   "cell_type": "markdown",
   "id": "15170dd9",
   "metadata": {},
   "source": [
    "## Rigid Body Sandbox"
   ]
  },
  {
   "cell_type": "code",
   "execution_count": 1,
   "id": "e9ec5548",
   "metadata": {},
   "outputs": [],
   "source": [
    "import numpy as np"
   ]
  },
  {
   "cell_type": "code",
   "execution_count": 6,
   "id": "f35e645b",
   "metadata": {},
   "outputs": [
    {
     "data": {
      "text/plain": [
       "0.8044905306695498"
      ]
     },
     "execution_count": 6,
     "metadata": {},
     "output_type": "execute_result"
    }
   ],
   "source": [
    "np.random.rand()"
   ]
  },
  {
   "cell_type": "code",
   "execution_count": 8,
   "id": "7b3a1058",
   "metadata": {},
   "outputs": [
    {
     "data": {
      "text/plain": [
       "array([0.92595849, 0.88337758])"
      ]
     },
     "execution_count": 8,
     "metadata": {},
     "output_type": "execute_result"
    }
   ],
   "source": [
    "np.random.rand(2)"
   ]
  },
  {
   "cell_type": "code",
   "execution_count": 47,
   "id": "e4b9d102",
   "metadata": {},
   "outputs": [
    {
     "data": {
      "text/plain": [
       "5"
      ]
     },
     "execution_count": 47,
     "metadata": {},
     "output_type": "execute_result"
    }
   ],
   "source": [
    "np.random.randint(3, 10)"
   ]
  },
  {
   "cell_type": "code",
   "execution_count": null,
   "id": "8bd66513",
   "metadata": {},
   "outputs": [],
   "source": []
  }
 ],
 "metadata": {
  "kernelspec": {
   "display_name": "Python 3 (ipykernel)",
   "language": "python",
   "name": "python3"
  },
  "language_info": {
   "codemirror_mode": {
    "name": "ipython",
    "version": 3
   },
   "file_extension": ".py",
   "mimetype": "text/x-python",
   "name": "python",
   "nbconvert_exporter": "python",
   "pygments_lexer": "ipython3",
   "version": "3.10.0"
  }
 },
 "nbformat": 4,
 "nbformat_minor": 5
}
