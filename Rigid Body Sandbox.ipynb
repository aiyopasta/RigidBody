{
 "cells": [
  {
   "cell_type": "markdown",
   "id": "299fb180",
   "metadata": {},
   "source": [
    "## Rigid Body Sandbox"
   ]
  },
  {
   "cell_type": "code",
   "execution_count": 1,
   "id": "656d6033",
   "metadata": {},
   "outputs": [],
   "source": [
    "import numpy as np"
   ]
  },
  {
   "cell_type": "code",
   "execution_count": 6,
   "id": "c4147e47",
   "metadata": {},
   "outputs": [
    {
     "data": {
      "text/plain": [
       "0.8044905306695498"
      ]
     },
     "execution_count": 6,
     "metadata": {},
     "output_type": "execute_result"
    }
   ],
   "source": [
    "np.random.rand()"
   ]
  },
  {
   "cell_type": "code",
   "execution_count": 8,
   "id": "7b41f4a3",
   "metadata": {},
   "outputs": [
    {
     "data": {
      "text/plain": [
       "array([0.92595849, 0.88337758])"
      ]
     },
     "execution_count": 8,
     "metadata": {},
     "output_type": "execute_result"
    }
   ],
   "source": [
    "np.random.rand(2)"
   ]
  },
  {
   "cell_type": "code",
   "execution_count": 47,
   "id": "6d653f38",
   "metadata": {},
   "outputs": [
    {
     "data": {
      "text/plain": [
       "5"
      ]
     },
     "execution_count": 47,
     "metadata": {},
     "output_type": "execute_result"
    }
   ],
   "source": [
    "np.random.randint(3, 10)"
   ]
  },
  {
   "cell_type": "code",
   "execution_count": 50,
   "id": "8ce9c0e0",
   "metadata": {},
   "outputs": [
    {
     "data": {
      "text/plain": [
       "array([0, 0, 2])"
      ]
     },
     "execution_count": 50,
     "metadata": {},
     "output_type": "execute_result"
    }
   ],
   "source": [
    "np.array([3, 4, 5]) % [3, 4, 3]"
   ]
  },
  {
   "cell_type": "code",
   "execution_count": 52,
   "id": "504ee039",
   "metadata": {},
   "outputs": [
    {
     "data": {
      "text/plain": [
       "2"
      ]
     },
     "execution_count": 52,
     "metadata": {},
     "output_type": "execute_result"
    }
   ],
   "source": [
    "np.argmax([1, 2, 3])"
   ]
  },
  {
   "cell_type": "code",
   "execution_count": 4,
   "id": "5867ba24",
   "metadata": {},
   "outputs": [
    {
     "data": {
      "text/plain": [
       "array([[1, 2],\n",
       "       [3, 4]])"
      ]
     },
     "execution_count": 4,
     "metadata": {},
     "output_type": "execute_result"
    }
   ],
   "source": [
    "np.array([[1, 2],\n",
    "          [3, 4]])"
   ]
  },
  {
   "cell_type": "code",
   "execution_count": 5,
   "id": "fda38db0",
   "metadata": {},
   "outputs": [
    {
     "data": {
      "text/plain": [
       "array([[0., 0.],\n",
       "       [0., 0.]])"
      ]
     },
     "execution_count": 5,
     "metadata": {},
     "output_type": "execute_result"
    }
   ],
   "source": [
    "np.zeros((2,2))"
   ]
  },
  {
   "cell_type": "code",
   "execution_count": 8,
   "id": "cb980206",
   "metadata": {},
   "outputs": [
    {
     "data": {
      "text/plain": [
       "array([[1, 2],\n",
       "       [3, 4]])"
      ]
     },
     "execution_count": 8,
     "metadata": {},
     "output_type": "execute_result"
    }
   ],
   "source": [
    "row1 = np.array([1, 2])\n",
    "row2 = np.array([3, 4])\n",
    "J = np.array([row1, row2])\n",
    "J"
   ]
  },
  {
   "cell_type": "code",
   "execution_count": 10,
   "id": "bec6848e",
   "metadata": {},
   "outputs": [
    {
     "data": {
      "text/plain": [
       "array([[1., 0.],\n",
       "       [0., 1.]])"
      ]
     },
     "execution_count": 10,
     "metadata": {},
     "output_type": "execute_result"
    }
   ],
   "source": [
    "np.eye(2)"
   ]
  },
  {
   "cell_type": "code",
   "execution_count": 4,
   "id": "a15ad04e",
   "metadata": {},
   "outputs": [
    {
     "data": {
      "text/plain": [
       "array([1, 4, 3])"
      ]
     },
     "execution_count": 4,
     "metadata": {},
     "output_type": "execute_result"
    }
   ],
   "source": [
    "np.maximum([1, 2, 3], [-1, 4, 0])"
   ]
  },
  {
   "cell_type": "code",
   "execution_count": 5,
   "id": "c01c4515",
   "metadata": {},
   "outputs": [
    {
     "data": {
      "text/plain": [
       "True"
      ]
     },
     "execution_count": 5,
     "metadata": {},
     "output_type": "execute_result"
    }
   ],
   "source": [
    "{2, 1} in [{1, 2}]"
   ]
  },
  {
   "cell_type": "code",
   "execution_count": 8,
   "id": "70e023e8",
   "metadata": {},
   "outputs": [
    {
     "data": {
      "text/plain": [
       "{1, 2, 3}"
      ]
     },
     "execution_count": 8,
     "metadata": {},
     "output_type": "execute_result"
    }
   ],
   "source": [
    "{1, 2} | {1, 3}"
   ]
  },
  {
   "cell_type": "code",
   "execution_count": 12,
   "id": "b9640ae4",
   "metadata": {},
   "outputs": [
    {
     "data": {
      "text/plain": [
       "{4}"
      ]
     },
     "execution_count": 12,
     "metadata": {},
     "output_type": "execute_result"
    }
   ],
   "source": [
    "s = set()\n",
    "s.add(4)\n",
    "s"
   ]
  },
  {
   "cell_type": "code",
   "execution_count": 18,
   "id": "36ea9026",
   "metadata": {},
   "outputs": [
    {
     "data": {
      "text/plain": [
       "False"
      ]
     },
     "execution_count": 18,
     "metadata": {},
     "output_type": "execute_result"
    }
   ],
   "source": [
    "{2, 13} in {frozenset({1, 2})}"
   ]
  },
  {
   "cell_type": "code",
   "execution_count": 19,
   "id": "ca8ef93a",
   "metadata": {},
   "outputs": [
    {
     "data": {
      "text/plain": [
       "array([[0, 3],\n",
       "       [2, 5]])"
      ]
     },
     "execution_count": 19,
     "metadata": {},
     "output_type": "execute_result"
    }
   ],
   "source": [
    "poop = np.array([1, 2]), np.array([3, 4])\n",
    "poop + np.array([-1, 1])"
   ]
  },
  {
   "cell_type": "code",
   "execution_count": 40,
   "id": "83ce48d4",
   "metadata": {},
   "outputs": [
    {
     "ename": "SyntaxError",
     "evalue": "unmatched ']' (688554061.py, line 1)",
     "output_type": "error",
     "traceback": [
      "\u001b[0;36m  Input \u001b[0;32mIn [40]\u001b[0;36m\u001b[0m\n\u001b[0;31m    h = {frozenset({3, 4}): (np.array([3, 4, 5]), np.array([7, 8, 9])), frozenset(5, 6): (np.array([7, 5, 3]), np.array([5, 3, 3]))}]\u001b[0m\n\u001b[0m                                                                                                                                    ^\u001b[0m\n\u001b[0;31mSyntaxError\u001b[0m\u001b[0;31m:\u001b[0m unmatched ']'\n"
     ]
    }
   ],
   "source": [
    "h = {frozenset({3, 4}): (np.array([3, 4, 5]), np.array([7, 8, 9])), frozenset(5, 6): (np.array([7, 5, 3]), np.array([5, 3, 3]))}]\n",
    "h[frozenset({3, 4})"
   ]
  },
  {
   "cell_type": "code",
   "execution_count": 41,
   "id": "c5570e84",
   "metadata": {},
   "outputs": [
    {
     "data": {
      "text/plain": [
       "array([0., 0., 0.])"
      ]
     },
     "execution_count": 41,
     "metadata": {},
     "output_type": "execute_result"
    }
   ],
   "source": [
    "np.zeros(3)"
   ]
  },
  {
   "cell_type": "code",
   "execution_count": 45,
   "id": "28809e43",
   "metadata": {},
   "outputs": [
    {
     "data": {
      "text/plain": [
       "{'hi': 3, 'bye': 4}"
      ]
     },
     "execution_count": 45,
     "metadata": {},
     "output_type": "execute_result"
    }
   ],
   "source": [
    "d = {'hi': 3}\n",
    "d['bye'] = 4\n",
    "d"
   ]
  },
  {
   "cell_type": "code",
   "execution_count": 48,
   "id": "8be70bba",
   "metadata": {},
   "outputs": [
    {
     "name": "stdout",
     "output_type": "stream",
     "text": [
      "[3 4]\n"
     ]
    }
   ],
   "source": [
    "l = [1, 2, 3, 4]\n",
    "n = len(l)\n",
    "l = np.reshape(l, (int(n/2), 2))\n",
    "print(l[1])"
   ]
  },
  {
   "cell_type": "code",
   "execution_count": 55,
   "id": "bc897dfc",
   "metadata": {},
   "outputs": [
    {
     "data": {
      "text/plain": [
       "5"
      ]
     },
     "execution_count": 55,
     "metadata": {},
     "output_type": "execute_result"
    }
   ],
   "source": [
    "def poop():\n",
    "    return 5, 6\n",
    "\n",
    "blah = poop()\n",
    "x, y = blah\n",
    "x"
   ]
  },
  {
   "cell_type": "code",
   "execution_count": 57,
   "id": "b5872e3e",
   "metadata": {},
   "outputs": [
    {
     "data": {
      "text/plain": [
       "array([[1, 3],\n",
       "       [2, 4]])"
      ]
     },
     "execution_count": 57,
     "metadata": {},
     "output_type": "execute_result"
    }
   ],
   "source": [
    "np.array([[1, 2],\n",
    "         [3, 4]]).T"
   ]
  },
  {
   "cell_type": "code",
   "execution_count": 58,
   "id": "c23a0736",
   "metadata": {},
   "outputs": [
    {
     "data": {
      "text/plain": [
       "False"
      ]
     },
     "execution_count": 58,
     "metadata": {},
     "output_type": "execute_result"
    }
   ],
   "source": [
    "np.array([2, 3]) is np.array([2, 3])"
   ]
  },
  {
   "cell_type": "code",
   "execution_count": 64,
   "id": "5f79c43a",
   "metadata": {},
   "outputs": [
    {
     "data": {
      "text/plain": [
       "(array([   0.   ,   -0.   , 1077.709]), 1077.7089999999996)"
      ]
     },
     "execution_count": 64,
     "metadata": {},
     "output_type": "execute_result"
    }
   ],
   "source": [
    "a = np.array([2, 3, 0])\n",
    "b = np.array([-359, 0.3545, 0])\n",
    "poopoo = np.cross(a, b)\n",
    "peepee = np.linalg.det([a[:-1], b[:-1]])\n",
    "poopoo, peepee"
   ]
  },
  {
   "cell_type": "code",
   "execution_count": 69,
   "id": "5ee0b30d",
   "metadata": {},
   "outputs": [
    {
     "data": {
      "text/plain": [
       "1077.7089999999996"
      ]
     },
     "execution_count": 69,
     "metadata": {},
     "output_type": "execute_result"
    }
   ],
   "source": [
    "np.linalg.det([a[:-1], b[:-1]])"
   ]
  },
  {
   "cell_type": "code",
   "execution_count": 71,
   "id": "485b833a",
   "metadata": {},
   "outputs": [
    {
     "data": {
      "text/plain": [
       "array([[1, 1],\n",
       "       [4, 5],\n",
       "       [1, 2]])"
      ]
     },
     "execution_count": 71,
     "metadata": {},
     "output_type": "execute_result"
    }
   ],
   "source": [
    "l = [[1, 1], [4, 5], [1, 2]]\n",
    "np.array(l)"
   ]
  },
  {
   "cell_type": "code",
   "execution_count": 4,
   "id": "211a03be",
   "metadata": {},
   "outputs": [
    {
     "data": {
      "text/plain": [
       "True"
      ]
     },
     "execution_count": 4,
     "metadata": {},
     "output_type": "execute_result"
    }
   ],
   "source": [
    "import numpy as np\n",
    "r = np.arange(10, 13)\n",
    "frozenset([10, 11]).issubset(r)"
   ]
  },
  {
   "cell_type": "code",
   "execution_count": null,
   "id": "9e1365ae",
   "metadata": {},
   "outputs": [],
   "source": []
  }
 ],
 "metadata": {
  "kernelspec": {
   "display_name": "Python 3 (ipykernel)",
   "language": "python",
   "name": "python3"
  },
  "language_info": {
   "codemirror_mode": {
    "name": "ipython",
    "version": 3
   },
   "file_extension": ".py",
   "mimetype": "text/x-python",
   "name": "python",
   "nbconvert_exporter": "python",
   "pygments_lexer": "ipython3",
   "version": "3.10.0"
  }
 },
 "nbformat": 4,
 "nbformat_minor": 5
}
